{
 "cells": [
  {
   "cell_type": "markdown",
   "id": "be2e5dc9-20fe-4b57-be4e-6487300fbca3",
   "metadata": {
    "tags": []
   },
   "source": [
    "# Deep Graph Library (DGL) queues model"
   ]
  },
  {
   "cell_type": "markdown",
   "id": "0b40dae6-610d-4d02-b06c-b53f4af86cf7",
   "metadata": {
    "tags": []
   },
   "source": [
    "## Import libraries"
   ]
  },
  {
   "cell_type": "code",
   "execution_count": 1,
   "id": "5bf53a7e-210a-48d6-9420-85ce6782d241",
   "metadata": {},
   "outputs": [],
   "source": [
    "import os\n",
    "import sys\n",
    "import shutil\n",
    "\n",
    "os.environ[\"DGLBACKEND\"] = \"pytorch\"\n",
    "os.environ[\"WANDB_NOTEBOOK_NAME\"] = \"V2.2.1-queues.ipynb\"\n",
    "\n",
    "import dgl\n",
    "import dgl.nn as dglnn\n",
    "import dgl.data\n",
    "import torch\n",
    "import torch.nn as nn\n",
    "import torch.nn.functional as F\n",
    "from torch import linalg as LA\n",
    "import wandb\n",
    "from dgl.data import DGLDataset\n",
    "from dgl import save_graphs, load_graphs\n",
    "from dgl.data.utils import makedirs, save_info, load_info, split_dataset\n",
    "from dgl.dataloading import GraphDataLoader\n",
    "from torchmetrics.regression import MeanAbsolutePercentageError\n",
    "from torchmetrics.regression import SymmetricMeanAbsolutePercentageError\n",
    "from torchmetrics.regression import WeightedMeanAbsolutePercentageError\n",
    "\n",
    "torch.set_default_dtype(torch.float64)\n",
    "\n",
    "\n",
    "from datetime import datetime\n",
    "import networkx as nx\n",
    "import numpy as np\n",
    "from datanetAPI import DatanetAPI\n",
    "import requests\n",
    "import configparser\n",
    "import matplotlib.pyplot as plt\n",
    "from tqdm import tqdm\n",
    "from ast import literal_eval\n",
    "import math\n",
    "import random\n",
    "from sklearn.preprocessing import normalize"
   ]
  },
  {
   "cell_type": "code",
   "execution_count": 2,
   "id": "3d0d904b-d2b1-4540-bc9f-c782f34744ef",
   "metadata": {},
   "outputs": [],
   "source": [
    "dataset_path = '/data/escenari-slicing/samples-UPC/processed-100-v2.2.1'\n",
    "save_dataset_path_validation = './V2.2.1-100-queues'\n",
    "save_dataset_path_train = './V2.2.1-3k'\n",
    "save_model_path = './V2.2.1-model-100-dataset-inputgraphqueues'\n",
    "dataset_name_validation=\"Slicing-V2.2.1-100-queues\"\n",
    "dataset_name_train=\"Slicing-V2.2.1-3k\""
   ]
  },
  {
   "cell_type": "markdown",
   "id": "23ef1f91-4940-4ecd-b2d5-f0c117ff4db6",
   "metadata": {
    "tags": []
   },
   "source": [
    "## Dataset reading"
   ]
  },
  {
   "cell_type": "code",
   "execution_count": 3,
   "id": "cbfb77f7-00e0-4d00-be4f-9a515603b1a3",
   "metadata": {},
   "outputs": [],
   "source": [
    "class SlicingDataset(DGLDataset):\n",
    "    \"\"\" \n",
    "    Parameters\n",
    "    ----------\n",
    "    raw_dir : str\n",
    "        Specifying the directory that will store the\n",
    "        downloaded data or the directory that\n",
    "        already stores the input data.\n",
    "    save_dir : str\n",
    "        Directory to save the processed dataset.\n",
    "        Default: the value of `raw_dir`\n",
    "    force_reload : bool\n",
    "        Whether to reload the dataset. Default: False\n",
    "    verbose : bool\n",
    "        Whether to print out progress information\n",
    "    \"\"\"\n",
    "        \n",
    "    def __init__(self, \n",
    "                 name=\"default_name\", \n",
    "                 raw_dir=None, \n",
    "                 save_dir=None, \n",
    "                 force_reload=False):\n",
    "        self.tool = DatanetAPI(raw_dir, shuffle=False)\n",
    "        super(SlicingDataset, self).__init__(\n",
    "            name=name, \n",
    "            raw_dir=raw_dir, \n",
    "            save_dir=save_dir, \n",
    "            force_reload=force_reload)\n",
    "        \n",
    "\n",
    "    def process(self):\n",
    "        it = iter(self.tool)\n",
    "        self.graphs = []\n",
    "        for s in tqdm(it, total=len(self.tool.get_available_files()*79)):\n",
    "            G = nx.DiGraph(s.get_topology_object().copy())\n",
    "            R = s.get_routing_matrix()\n",
    "            T = s.get_traffic_matrix() \n",
    "            D = s.get_performance_matrix()\n",
    "            P = s.get_port_stats()\n",
    "            S = s.get_slices()\n",
    "            D_G = nx.DiGraph()\n",
    "\n",
    "            #AvgBw_sum calculation\n",
    "            AvgBw_sum = np.zeros((len(G.nodes),len(G.nodes)))\n",
    "            for src in range(G.number_of_nodes()):\n",
    "                for dst in range(G.number_of_nodes()):\n",
    "                    route = R[src,dst]\n",
    "                    if route:\n",
    "                        for index, node in enumerate(route):\n",
    "                            next_node_index = index + 1\n",
    "                            if next_node_index < len(route):\n",
    "                                for f_id in range(len(T[src, dst]['Flows'])):\n",
    "                                    if T[src, dst]['Flows'][f_id]['AvgBw'] != 0 and T[src, dst]['Flows'][f_id]['PktsGen'] != 0:\n",
    "                                        AvgBw_sum[node][route[next_node_index]] += T[src, dst]['Flows'][f_id]['AvgBw']\n",
    "\n",
    "            reservations_embb = np.zeros((len(G.nodes),len(G.nodes)))\n",
    "            reservations_urllc = np.zeros((len(G.nodes),len(G.nodes)))\n",
    "            reservations_mmtc = np.zeros((len(G.nodes),len(G.nodes)))\n",
    "            for slice in S:\n",
    "                for flow in slice[\"flows\"]:\n",
    "                    route = literal_eval(flow[\"path\"])\n",
    "                    for index, node in enumerate(route):\n",
    "                        next_node_index = index + 1\n",
    "                        if next_node_index < len(route):\n",
    "                            v_max = float(flow[\"bandwidth\"])*1.20 \n",
    "                            v_min = float(flow[\"bandwidth\"])*0.80\n",
    "                            if (slice[\"type\"] == \"eMBB\"):    \n",
    "                                reservations_embb[node][route[next_node_index]] += v_min+slice[\"delta\"]*(v_max-v_min)\n",
    "                            elif (slice[\"type\"] == \"URLLC\"):\n",
    "                                reservations_urllc[node][route[next_node_index]] += v_min+slice[\"delta\"]*(v_max-v_min)\n",
    "                            else:\n",
    "                                reservations_mmtc[node][route[next_node_index]] += v_min+slice[\"delta\"]*(v_max-v_min)\n",
    "            for src in range(G.number_of_nodes()):\n",
    "                for dst in range(G.number_of_nodes()):\n",
    "                    if src != dst:\n",
    "                        if G.has_edge(src, dst):\n",
    "                            \n",
    "                            D_G.add_node('l_{}_{}'.format(src, dst),\n",
    "                                capacity=torch.tensor(G.edges[src, dst]['bandwidth']),\n",
    "                                utilization=torch.tensor(P[src][dst][\"utilization\"]),\n",
    "                                avgPacketSize=torch.tensor(P[src][dst][\"avgPacketSize\"]),\n",
    "                                offeredTrafficIntensity=torch.tensor(AvgBw_sum[src][dst]/s.get_srcdst_link_bandwidth(src,dst)),\n",
    "                                nodeType=torch.tensor(0)\n",
    "                                )\n",
    "                                    \n",
    "                        for f_id in range(len(T[src, dst]['Flows'])):\n",
    "                            if T[src, dst]['Flows'][f_id]['AvgBw'] != 0 and T[src, dst]['Flows'][f_id]['PktsGen'] != 0:\n",
    "                                D_G.add_node('p_{}_{}_{}'.format(src, dst, f_id),\n",
    "                                    traffic=torch.tensor(T[src, dst]['Flows'][f_id]['AvgBw']),\n",
    "                                    packets=torch.tensor(T[src, dst]['Flows'][f_id]['PktsGen']),\n",
    "                                    delay=torch.tensor(D[src, dst]['Flows'][f_id]['AvgDelay']),\n",
    "                                    jitter=torch.tensor(D[src, dst]['Flows'][f_id]['Jitter']),\n",
    "                                    pathLength=torch.tensor(len(R[src,dst])),\n",
    "                                    drops=torch.tensor(D[src, dst]['AggInfo']['PktsDrop']/T[src, dst]['Flows'][f_id]['PktsGen']),\n",
    "                                    delta=torch.tensor(slice[\"delta\"]),\n",
    "                                    nodeType=torch.tensor(1)\n",
    "                                    )\n",
    "                                for h_1, h_2 in [R[src, dst][i:i + 2] for i in range(0, len(R[src, dst]) - 1)]:\n",
    "                                    D_G.add_edge('p_{}_{}_{}'.format(src, dst, f_id), 'l_{}_{}'.format(h_1, h_2), edgeType=torch.tensor(0)) #traverses\n",
    "                                    D_G.add_edge('l_{}_{}'.format(h_1, h_2), 'p_{}_{}_{}'.format(src, dst, f_id), edgeType=torch.tensor(1)) #composes\n",
    "\n",
    "                                    for idx, queue in enumerate(P[h_1][h_2][\"qosQueuesStats\"]):\n",
    "                                        weight = G.nodes[h_1]['schedulingWeights']\n",
    "                                        avgDelay = 0\n",
    "                                        maxDelay = 0\n",
    "                                        aOTI = 0\n",
    "                                        #sCT = 0\n",
    "                                        sliceType = None\n",
    "                                        sliceNumber = None\n",
    "                                        calculatedLosses = 0\n",
    "                                        AvgBwQueue_sum = 0\n",
    "                                        if weight != \"-\":\n",
    "                                            port = G[h_1][h_2]['port']\n",
    "                                            if (type(weight) != int):\n",
    "                                                weight = weight.split(\";\")[port]\n",
    "                                                if (type(weight) != int):\n",
    "                                                    weight = weight.split(\",\")[idx]\n",
    "                                            if (idx < len(G.nodes[h_1]['tosToQoSqueue'].split(\";\"))-1): #last is unused  \n",
    "                                                #Save scheduling weights of the queue\n",
    "                                                origins = list(map(int,G.nodes[h_1]['tosToQoSqueue'].split(\";\")[idx].split(\",\")))\n",
    "\n",
    "                                                if queue['utilization'] > 0 and float(weight) > 0.001:  \n",
    "                                                    for slice in S:\n",
    "                                                        for flow in slice[\"flows\"]:\n",
    "                                                            if int(flow[\"origin_node\"]) in origins:\n",
    "                                                                sliceType = slice[\"type\"]\n",
    "                                                                sliceNumber = slice[\"number\"]\n",
    "                                                                AvgBwQueue_sum += T[int(flow['origin_node']), int(flow['destination'])]['Flows'][0]['AvgBw']\n",
    "                                                        if sliceType is not None:\n",
    "                                                            break\n",
    "                                                        else:\n",
    "                                                            AvgBwQueue_sum = 0\n",
    "                                            \n",
    "                                            trafficPortion = float(s.get_srcdst_link_bandwidth(h_1,h_2))*(float(weight)/100)\n",
    "                                            aOTI = AvgBwQueue_sum/trafficPortion\n",
    "\n",
    "                                            maxDelay = 31*queue['avgPacketSize']/trafficPortion\n",
    "                                            if aOTI >= 1:\n",
    "                                                avgDelay = maxDelay\n",
    "                                            else: #aOTI < 1\n",
    "                                                avgDelay = min(queue['avgPacketSize']/trafficPortion*(1/(1-aOTI)),maxDelay)\n",
    "                                            if aOTI <= 1:\n",
    "                                                calculatedLosses = 0\n",
    "                                            else: # aOTI > 1\n",
    "                                                calculatedLosses = (AvgBwQueue_sum-trafficPortion)/AvgBwQueue_sum\n",
    "                                        else:\n",
    "                                            weight = 100\n",
    "                                        if s.get_srcdst_link_bandwidth(h_1,h_2) > 0 and maxDelay > 0:\n",
    "                                            D_G.add_node('q_{}_{}_{}'.format(h_1, h_2, idx),\n",
    "                                                weight=torch.tensor(float(weight)),\n",
    "                                                utilization=torch.tensor(queue['utilization']),\n",
    "                                                #aOTI=torch.tensor(aOTI),\n",
    "                                                calculatedLosses=torch.tensor(calculatedLosses),\n",
    "                                                maxDelay=torch.tensor(maxDelay),\n",
    "                                                nodeType=torch.tensor(2)\n",
    "                                                )\n",
    "                                            if sliceType is not None:\n",
    "                                                D_G.add_edge('p_{}_{}_{}'.format(src, dst, f_id), 'q_{}_{}_{}'.format(h_1, h_2, idx), edgeType=torch.tensor(2)) #uses\n",
    "                                                D_G.add_edge('q_{}_{}_{}'.format(h_1, h_2, idx), 'p_{}_{}_{}'.format(src, dst, f_id), edgeType=torch.tensor(3)) #serves\n",
    "                                                D_G.add_edge('l_{}_{}'.format(h_1, h_2), 'q_{}_{}_{}'.format(h_1, h_2, idx), edgeType=torch.tensor(4)) #hosts\n",
    "                                                D_G.add_edge('q_{}_{}_{}'.format(h_1, h_2, idx), 'l_{}_{}'.format(h_1, h_2), edgeType=torch.tensor(5)) #resides\n",
    "                                            \n",
    "            D_G.remove_nodes_from([node for node, in_degree in D_G.in_degree() if in_degree == 0])\n",
    "            D_G.remove_nodes_from([node for node, out_degree in D_G.out_degree() if out_degree == 0])\n",
    "\n",
    "            g = dgl.from_networkx(D_G, node_attrs=[\"nodeType\"])\n",
    "\n",
    "            nodeTypes = nx.get_node_attributes(D_G, 'nodeType')\n",
    "            nodes = D_G.nodes\n",
    "            g.ndata[dgl.NTYPE] = torch.stack([nodeTypes[e] for e in nodes])\n",
    "            g.ndata[dgl.NID] = torch.tensor([*range(0,len(D_G.nodes))])\n",
    "\n",
    "            edgeTypes = nx.get_edge_attributes(D_G, 'edgeType')\n",
    "            edges = D_G.edges\n",
    "            g.edata[dgl.ETYPE] = torch.stack([edgeTypes[e] for e in edges])\n",
    "            g.edata[dgl.EID] = torch.tensor([*range(0,len(D_G.edges))])\n",
    "            g = dgl.to_heterogeneous(g, ['link','path','queue'], ['traverses','composes', 'uses', 'serves', 'hosts', 'resides'])\n",
    "\n",
    "            capacities, utilizations, avgPacketSizes, offeredTrafficIntensities, nodeTypesLink = ([] for i in range(5))\n",
    "            \n",
    "            traffics, packets, delays, jitters, pathLengths, drops, deltas, nodeTypesPath = ([] for i in range(8))\n",
    "\n",
    "            weights, queueUtilizations, calculatedLosses, maxDelays, nodeTypesQueue  = ([] for i in range(5))\n",
    "            \n",
    "            for node in D_G.nodes(data=True):\n",
    "                if node[1][\"nodeType\"] == 0: #LINK               \n",
    "                    capacities.append(node[1][\"capacity\"])\n",
    "                    utilizations.append(node[1][\"utilization\"])\n",
    "                    avgPacketSizes.append(node[1][\"avgPacketSize\"])\n",
    "                    offeredTrafficIntensities.append(node[1][\"offeredTrafficIntensity\"])\n",
    "                    nodeTypesLink.append(node[1][\"nodeType\"])\n",
    "                    \n",
    "                elif node[1][\"nodeType\"] == 1: #FLOW/PATH\n",
    "                    traffics.append(node[1][\"traffic\"])\n",
    "                    packets.append(node[1][\"packets\"])\n",
    "                    delays.append(node[1][\"delay\"]) #TO PREDICT\n",
    "                    jitters.append(node[1][\"jitter\"]) #TO PREDICT\n",
    "                    drops.append(node[1][\"drops\"]) #TO PREDICT    \n",
    "                    pathLengths.append(node[1][\"pathLength\"])\n",
    "                    deltas.append(node[1][\"delta\"])\n",
    "                    nodeTypesPath.append(node[1][\"nodeType\"])\n",
    "                    \n",
    "                else : #if node[1][\"nodeType\"] == 2: #QUEUE\n",
    "                    weights.append(node[1][\"weight\"])\n",
    "                    queueUtilizations.append(node[1][\"utilization\"])\n",
    "                    calculatedLosses.append(node[1][\"calculatedLosses\"])\n",
    "                    maxDelays.append(node[1][\"maxDelay\"])\n",
    "                    nodeTypesQueue.append(node[1][\"nodeType\"])\n",
    "\n",
    "            #create tensors\n",
    "            g.nodes[\"link\"].data[\"capacity\"] = torch.stack(capacities)\n",
    "            g.nodes[\"link\"].data[\"utilization\"] = torch.stack(utilizations)\n",
    "            g.nodes[\"link\"].data[\"avgPacketSize\"] = torch.stack(avgPacketSizes)\n",
    "            g.nodes[\"link\"].data[\"offeredTrafficIntensity\"] = torch.stack(offeredTrafficIntensities)\n",
    "            g.nodes[\"link\"].data[\"nodeType\"] = torch.stack(nodeTypesLink)\n",
    "            \n",
    "            g.nodes[\"path\"].data[\"traffic\"] = torch.stack(traffics)\n",
    "            g.nodes[\"path\"].data[\"packets\"] = torch.stack(packets)\n",
    "            g.nodes[\"path\"].data[\"delay\"] = torch.stack(delays)\n",
    "            g.nodes[\"path\"].data[\"jitter\"] = torch.stack(jitters)\n",
    "            g.nodes[\"path\"].data[\"drops\"] = torch.stack(drops)\n",
    "            g.nodes[\"path\"].data[\"pathLength\"] = torch.stack(pathLengths)\n",
    "            g.nodes[\"path\"].data[\"delta\"] = torch.stack(deltas)\n",
    "            g.nodes[\"path\"].data[\"nodeType\"] = torch.stack(nodeTypesPath)\n",
    "\n",
    "            g.nodes[\"queue\"].data[\"weight\"] = torch.stack(weights)\n",
    "            g.nodes[\"queue\"].data[\"queueUtilization\"] = torch.stack(queueUtilizations)\n",
    "            g.nodes[\"queue\"].data[\"calculatedLosses\"] = torch.stack(calculatedLosses)\n",
    "            g.nodes[\"queue\"].data[\"maxDelay\"] = torch.stack(maxDelays)\n",
    "            g.nodes[\"queue\"].data[\"nodeType\"] = torch.stack(nodeTypesQueue)\n",
    "\n",
    "            self.graphs.append(g)\n",
    "        self.save()\n",
    "        \n",
    "    def getGraphs(self):\n",
    "        return self.graphs\n",
    "\n",
    "    \n",
    "    def __getitem__(self, idx):\n",
    "        \"\"\" Get graph and label by index\n",
    "        Parameters\n",
    "        ----------\n",
    "        idx : int\n",
    "            Item index\n",
    "\n",
    "        Returns\n",
    "        -------\n",
    "        (dgl.DGLGraph)\n",
    "        \"\"\"\n",
    "        return self.graphs[idx]\n",
    "\n",
    "    def __len__(self):\n",
    "        \"\"\"Number of graphs in the dataset\"\"\"\n",
    "        return 3492#len(self.graphs) #3492\n",
    "\n",
    "    def collate_fn(self, batch):\n",
    "        # batch is a list of tuple (graph, label)\n",
    "        graphs = [e[0] for e in batch]\n",
    "        g = dgl.batch(graphs)\n",
    "        labels = [e[1] for e in batch]\n",
    "        labels = torch.stack(labels, 0)\n",
    "        return g\n",
    "\n",
    "    def save(self):\n",
    "        # save graphs and labels\n",
    "        graph_path = os.path.join(self.save_dir, 'dgl_graph.bin')\n",
    "        save_graphs(graph_path, self.graphs)\n",
    "        \n",
    "    def load(self):\n",
    "        # load processed data from directory `self.save_path`\n",
    "        graph_path = os.path.join(self.save_dir, 'dgl_graph.bin')\n",
    "        self.graphs = load_graphs(graph_path)\n",
    "\n",
    "\n",
    "    def has_cache(self):\n",
    "        # check whether there is processed data in `self.save_path`\n",
    "        graph_path = os.path.join(self.save_dir, 'dgl_graph.bin')\n",
    "        return os.path.exists(graph_path)"
   ]
  },
  {
   "cell_type": "markdown",
   "id": "45330206-2163-469d-8cfb-62b9810ee336",
   "metadata": {},
   "source": [
    "1. Obtenir graph base dirigit de cada sample  \n",
    "2. Afegir atributs desitjats al graf\n",
    "3. Carregar-lo a GPU"
   ]
  },
  {
   "cell_type": "markdown",
   "id": "19508292-17b7-4566-90b0-d46bfcd3574f",
   "metadata": {},
   "source": [
    "## Dataloader initialization"
   ]
  },
  {
   "cell_type": "code",
   "execution_count": 4,
   "id": "authorized-novelty",
   "metadata": {},
   "outputs": [],
   "source": [
    "# define dataset\n",
    "ds_train = SlicingDataset(\n",
    "    name=dataset_name_train,\n",
    "    raw_dir=dataset_path, \n",
    "    save_dir=save_dataset_path_train, \n",
    "    force_reload=False)\n",
    "\n",
    "ds_train.load()"
   ]
  },
  {
   "cell_type": "code",
   "execution_count": 5,
   "id": "2e925709-aa0a-48e5-9deb-e4d5d27d4434",
   "metadata": {},
   "outputs": [],
   "source": [
    "ds_validation = SlicingDataset(\n",
    "    name=dataset_name_validation,\n",
    "    raw_dir=dataset_path, \n",
    "    save_dir=save_dataset_path_validation, \n",
    "    force_reload=False)\n",
    "\n",
    "ds_validation.load()"
   ]
  },
  {
   "cell_type": "markdown",
   "id": "a587c23b-feef-438b-a106-c2d2bcad2c42",
   "metadata": {},
   "source": [
    "## Dataset split"
   ]
  },
  {
   "cell_type": "code",
   "execution_count": 6,
   "id": "8e479cf5-5291-4163-a09f-6f8cc280c67c",
   "metadata": {},
   "outputs": [],
   "source": [
    "#ds_train, ds_validation, ds_test = split_dataset(dataset,[0.9,0.01,0.09])"
   ]
  },
  {
   "cell_type": "code",
   "execution_count": 7,
   "id": "94ad39e3-1a44-4204-a171-d7bd35052733",
   "metadata": {},
   "outputs": [],
   "source": [
    "#print(dataset)"
   ]
  },
  {
   "cell_type": "code",
   "execution_count": 8,
   "id": "f4687eca-e8fa-41a6-889a-0e5d616d43e1",
   "metadata": {},
   "outputs": [],
   "source": [
    "#print length of the datasets\n",
    "# print(len(ds_train))\n",
    "# print(len(ds_validation))\n",
    "# print(len(ds_test))"
   ]
  },
  {
   "cell_type": "markdown",
   "id": "87acca5a",
   "metadata": {
    "tags": []
   },
   "source": [
    "## GNN model"
   ]
  },
  {
   "cell_type": "code",
   "execution_count": 9,
   "id": "fd2eab5f-a770-4ad0-a139-73e581976259",
   "metadata": {},
   "outputs": [],
   "source": [
    "# Define a Heterograph Conv model\n",
    "\n",
    "class RGCN(nn.Module):\n",
    "    def __init__(self, in_feats, hid_feats, out_feats):\n",
    "        super().__init__()\n",
    "        aggregation_function = 'sum'\n",
    "        self.conv1 = dglnn.HeteroGraphConv({\n",
    "            'traverses': dglnn.GraphConv(in_feats, hid_feats),\n",
    "            'composes': dglnn.GraphConv(in_feats, hid_feats),\n",
    "            'uses': dglnn.GraphConv(in_feats, hid_feats),\n",
    "            'serves': dglnn.GraphConv(in_feats, hid_feats),\n",
    "            'hosts': dglnn.GraphConv(in_feats, hid_feats),\n",
    "            'resides': dglnn.GraphConv(in_feats, hid_feats)\n",
    "            },\n",
    "            aggregate=aggregation_function)\n",
    "        self.conv2 = dglnn.HeteroGraphConv({\n",
    "            'traverses': dglnn.GraphConv(hid_feats, out_feats),\n",
    "            'composes': dglnn.GraphConv(hid_feats, out_feats),\n",
    "            'uses': dglnn.GraphConv(hid_feats, out_feats),\n",
    "            'serves': dglnn.GraphConv(hid_feats, out_feats),\n",
    "            'hosts': dglnn.GraphConv(hid_feats, out_feats),\n",
    "            'resides': dglnn.GraphConv(hid_feats, out_feats)\n",
    "            },\n",
    "            aggregate=aggregation_function)\n",
    "  \n",
    "    def forward(self, graph, inputs):\n",
    "        # inputs are features of the nodes\n",
    "        \n",
    "        #print(inputs)\n",
    "        h = self.conv1(graph, inputs)\n",
    "        h = {k: torch.nn.functional.leaky_relu(v) for k, v in h.items()}\n",
    "        h = self.conv2(graph, h)\n",
    "        h = {k: torch.nn.functional.sigmoid(v) for k, v in h.items()}\n",
    "        return h"
   ]
  },
  {
   "cell_type": "code",
   "execution_count": 10,
   "id": "153d402e-9d6a-4fc1-8d78-94263599503a",
   "metadata": {},
   "outputs": [
    {
     "data": {
      "text/plain": [
       "RGCN(\n",
       "  (conv1): HeteroGraphConv(\n",
       "    (mods): ModuleDict(\n",
       "      (traverses): GraphConv(in=4, out=20, normalization=both, activation=None)\n",
       "      (composes): GraphConv(in=4, out=20, normalization=both, activation=None)\n",
       "      (uses): GraphConv(in=4, out=20, normalization=both, activation=None)\n",
       "      (serves): GraphConv(in=4, out=20, normalization=both, activation=None)\n",
       "      (hosts): GraphConv(in=4, out=20, normalization=both, activation=None)\n",
       "      (resides): GraphConv(in=4, out=20, normalization=both, activation=None)\n",
       "    )\n",
       "  )\n",
       "  (conv2): HeteroGraphConv(\n",
       "    (mods): ModuleDict(\n",
       "      (traverses): GraphConv(in=20, out=3, normalization=both, activation=None)\n",
       "      (composes): GraphConv(in=20, out=3, normalization=both, activation=None)\n",
       "      (uses): GraphConv(in=20, out=3, normalization=both, activation=None)\n",
       "      (serves): GraphConv(in=20, out=3, normalization=both, activation=None)\n",
       "      (hosts): GraphConv(in=20, out=3, normalization=both, activation=None)\n",
       "      (resides): GraphConv(in=20, out=3, normalization=both, activation=None)\n",
       "    )\n",
       "  )\n",
       ")"
      ]
     },
     "execution_count": 10,
     "metadata": {},
     "output_type": "execute_result"
    }
   ],
   "source": [
    "model = RGCN(4,20,3)\n",
    "model.to(torch.double)"
   ]
  },
  {
   "cell_type": "code",
   "execution_count": 11,
   "id": "6fd6e533-d203-43f1-8ad6-6aa7a15728bc",
   "metadata": {},
   "outputs": [],
   "source": [
    "def joinFeatures(fs):\n",
    "    features = []\n",
    "    for feature in fs:\n",
    "        if feature == \"_ID\" or feature == \"nodeType\" or feature == \"delay\" or feature == \"drops\" or feature == \"jitter\":\n",
    "            continue\n",
    "        else:\n",
    "            features.append(fs[feature])\n",
    "    return features"
   ]
  },
  {
   "cell_type": "code",
   "execution_count": 12,
   "id": "c362b776-d487-4f5c-addc-e42b0242a336",
   "metadata": {},
   "outputs": [],
   "source": [
    "def transformFeatures(g):\n",
    "    features = [\"delay\", \"drops\", \"jitter\", \n",
    "                \"capacity\", \"utilization\", \"avgPacketSize\", \"offeredTrafficIntensity\", \n",
    "                \"traffic\", \"packets\", \"pathLength\", \"delta\",\n",
    "                \"weight\", \"queueUtilization\", \"queueLosses\", \"queueDelay\"]\n",
    "    for feature in features:\n",
    "        #transformation of output features\n",
    "        if feature == \"delay\":\n",
    "            g.nodes['path'].data['delay'] = torch.clamp(g.nodes['path'].data['delay'], max=0.0230716) #IQR 90\n",
    "            g.nodes['path'].data['delay'] = (g.nodes['path'].data['delay']-0.00001)/(0.0230716-0.00001)            \n",
    "            \n",
    "        elif feature == \"drops\":\n",
    "            #continue\n",
    "            g.nodes['path'].data['drops'] = torch.clamp(g.nodes['path'].data['drops'], max=0.741) #IQR 90\n",
    "            g.nodes['path'].data['drops'] = (g.nodes['path'].data['drops']/0.741)\n",
    "            \n",
    "        elif feature == \"jitter\":\n",
    "            g.nodes['path'].data['jitter'] = torch.clamp(g.nodes['path'].data['jitter'], max=0.000022) #IQR\n",
    "            g.nodes['path'].data['jitter'] = (g.nodes['path'].data['jitter'])/(0.000022)\n",
    "\n",
    "        \n",
    "        #transformation of input link features\n",
    "        elif feature == \"capacity\":\n",
    "            g.nodes['link'].data['capacity'] = (g.nodes['link'].data['capacity']-25000000)/(450000000-25000000)\n",
    "            \n",
    "        elif feature == \"utilization\":\n",
    "            g.nodes['link'].data['utilization'] = (g.nodes['link'].data['utilization']-0)/(1-0)\n",
    "            \n",
    "        elif feature == \"avgPacketSize\":\n",
    "            g.nodes['link'].data['avgPacketSize'] = torch.clamp(g.nodes['link'].data['avgPacketSize'], min=0) #some negative values found in the small dataset\n",
    "            g.nodes['link'].data['avgPacketSize'] = (g.nodes['link'].data['avgPacketSize']-0)/(15500.53-0)\n",
    "            \n",
    "        elif feature == \"offeredTrafficIntensity\":\n",
    "            g.nodes['link'].data['offeredTrafficIntensity'] = (g.nodes['link'].data['offeredTrafficIntensity']-0)/(4.59-0)\n",
    "\n",
    "        \n",
    "        #transformation of input path features\n",
    "        elif feature == \"traffic\":\n",
    "            g.nodes['path'].data['traffic'] = (g.nodes['path'].data['traffic']-249526)/(22531500-249526)\n",
    "            \n",
    "        elif feature == \"packets\":\n",
    "            g.nodes['path'].data['packets'] = (g.nodes['path'].data['packets']-623.86)/(3772.93-623.86)\n",
    "            \n",
    "        elif feature == \"pathLength\":\n",
    "            g.nodes['path'].data['pathLength'] = (g.nodes['path'].data['pathLength']-4)/(14-4)\n",
    "            \n",
    "        elif feature == \"delta\":\n",
    "            g.nodes['path'].data['delta'] = (g.nodes['path'].data['delta']-0.001)/(0.998-0.001)\n",
    "\n",
    "        \n",
    "        #transformation of input queue features\n",
    "        elif feature == \"weight\":\n",
    "            g.nodes['queue'].data['weight'] = (g.nodes['queue'].data['weight']-0)/(100-0)\n",
    "            \n",
    "        elif feature == \"queueUtilization\":\n",
    "            g.nodes['queue'].data['queueUtilization'] = (g.nodes['queue'].data['queueUtilization']-0.00001)/(1.00006-0.00001)\n",
    "            \n",
    "        elif feature == \"calculatedLosses\":\n",
    "            continue\n",
    "            \n",
    "        elif feature == \"maxDelay\":\n",
    "            g.nodes['queue'].data['maxDelay'] = torch.clamp(g.nodes['queue'].data['maxDelay'], max=4.96) #IQR\n",
    "            g.nodes['queue'].data['maxDelay'] = (g.nodes['queue'].data['maxDelay']-0.00003)/(4.96-0.00003)\n",
    "    \n",
    "    return g"
   ]
  },
  {
   "cell_type": "markdown",
   "id": "noted-christianity",
   "metadata": {
    "tags": []
   },
   "source": [
    "## Training"
   ]
  },
  {
   "cell_type": "code",
   "execution_count": 13,
   "id": "b984df86-55cf-4376-a470-3a02e5d1b667",
   "metadata": {},
   "outputs": [],
   "source": [
    "def calculate_smape(actual, predicted):\n",
    "    \"\"\"\n",
    "    Calculate the Symmetric Mean Absolute Percentage Error (SMAPE)\n",
    "    \n",
    "    :param actual: list of actual values\n",
    "    :param predicted: list of predicted values\n",
    "    :return: SMAPE as a percentage\n",
    "    \"\"\"\n",
    "    # Ensure actual and predicted lists have the same length\n",
    "    if len(actual) != len(predicted):\n",
    "        raise ValueError(\"Input lists must have the same length\")\n",
    "    \n",
    "    # Calculate SMAPE\n",
    "    n = len(actual)\n",
    "    total_error = 0\n",
    "    for a, p in zip(actual, predicted):\n",
    "        if p == 0 and a == 0:\n",
    "            continue\n",
    "        else:\n",
    "            total_error += 2 * (abs(a - p) / (abs(a) + abs(p)))\n",
    "    \n",
    "    smape = (total_error / n)\n",
    "    return smape"
   ]
  },
  {
   "cell_type": "code",
   "execution_count": 14,
   "id": "4f358b87-a88c-43a1-b281-dafec3b013fe",
   "metadata": {},
   "outputs": [],
   "source": [
    "opt = torch.optim.Adam(model.parameters(), lr=0.01)\n",
    "loss_object = nn.L1Loss() #MAE\n",
    "\n",
    "metric = nn.L1Loss()\n",
    "\n",
    "loss_values = []\n",
    "val_values_delay = []\n",
    "val_values_not_loss = []\n",
    "val_values_jitter = []\n",
    "\n",
    "batch_size = 20\n",
    "early_stopping_window = 20"
   ]
  },
  {
   "cell_type": "code",
   "execution_count": 15,
   "id": "e8ba2b21-5787-4138-95d5-07df5ac41e2f",
   "metadata": {},
   "outputs": [],
   "source": [
    "for g in ds_train[0]:\n",
    "    g = transformFeatures(g)\n",
    "for g in ds_validation[0]:\n",
    "    g = transformFeatures(g)\n",
    "for g in ds_test.dataset[0]:\n",
    "    g = transformFeatures(g)"
   ]
  },
  {
   "cell_type": "code",
   "execution_count": 16,
   "id": "cc33188f-8a5f-4605-a6b3-2bfe9cc912a6",
   "metadata": {},
   "outputs": [
    {
     "name": "stdout",
     "output_type": "stream",
     "text": [
      "Epoch: 0, train loss: 0.41853991677808206, validation smape delay: 17.58084428893722, validation smape losses: 21.391049188194494, validation smape jitter: 26.63582829018647\n",
      "Epoch: 1, train loss: 0.28632291934084086, validation smape delay: 17.377174630679292, validation smape losses: 29.465317306482376, validation smape jitter: 20.070111941891003\n",
      "Epoch: 2, train loss: 0.2945544617502072, validation smape delay: 13.512394129624905, validation smape losses: 21.194951840053385, validation smape jitter: 28.395396081929846\n",
      "Epoch: 3, train loss: 0.4957668650844689, validation smape delay: 16.868684118130503, validation smape losses: 28.057634100024295, validation smape jitter: 14.67827839307923\n",
      "Epoch: 4, train loss: 0.23638097713938117, validation smape delay: 17.94890578646472, validation smape losses: 17.208627883110346, validation smape jitter: 24.577378977879853\n",
      "Epoch: 5, train loss: 0.2521165248438573, validation smape delay: 16.81666083444888, validation smape losses: 20.91490105146604, validation smape jitter: 14.468747364057219\n",
      "Epoch: 6, train loss: 0.31808236109641563, validation smape delay: 12.524634368358534, validation smape losses: 16.882958290867137, validation smape jitter: 13.475764051066315\n",
      "Epoch: 7, train loss: 0.43586971832669025, validation smape delay: 13.181868939316194, validation smape losses: 14.139596769223115, validation smape jitter: 12.440199596893585\n",
      "Epoch: 8, train loss: 0.4551388950384663, validation smape delay: 18.079760551847507, validation smape losses: 13.733934807919306, validation smape jitter: 8.7117615486642\n",
      "Epoch: 9, train loss: 0.28759359401002305, validation smape delay: 21.364421288411968, validation smape losses: 12.502750028602769, validation smape jitter: 13.820349784703371\n",
      "Epoch: 10, train loss: 0.10992925955708126, validation smape delay: 12.707364989807008, validation smape losses: 13.355088635967547, validation smape jitter: 9.061404571788227\n",
      "Epoch: 11, train loss: 0.22423984798262664, validation smape delay: 11.11822744917974, validation smape losses: 16.318109984702023, validation smape jitter: 9.616220594931587\n",
      "Epoch: 12, train loss: 0.4326242322567606, validation smape delay: 16.635797122699678, validation smape losses: 13.309799106029947, validation smape jitter: 12.076524438092687\n",
      "Epoch: 13, train loss: 0.19498740277753657, validation smape delay: 17.24057346617186, validation smape losses: 15.883371351860927, validation smape jitter: 9.227983877200696\n",
      "Epoch: 14, train loss: 0.15854722380100184, validation smape delay: 11.740783619387134, validation smape losses: 12.520163532141774, validation smape jitter: 7.594594551200176\n",
      "Epoch: 15, train loss: 0.2644015035059669, validation smape delay: 12.775727009253448, validation smape losses: 12.85542383581164, validation smape jitter: 9.832174590794796\n",
      "Epoch: 16, train loss: 0.22872429572066785, validation smape delay: 10.841272544677139, validation smape losses: 12.943842458421429, validation smape jitter: 9.214033219590991\n",
      "Epoch: 17, train loss: 0.28276403729059907, validation smape delay: 13.090601166178917, validation smape losses: 12.23979304049606, validation smape jitter: 9.756078906398946\n",
      "Epoch: 18, train loss: 0.32257369432054034, validation smape delay: 11.615162200024646, validation smape losses: 13.953157911999853, validation smape jitter: 8.813417802523723\n",
      "Epoch: 19, train loss: 0.47230412391331045, validation smape delay: 10.945626136967064, validation smape losses: 15.22400160640004, validation smape jitter: 9.500185252421755\n",
      "Epoch: 20, train loss: 0.28148587286958404, validation smape delay: 12.293138080109319, validation smape losses: 17.249172909734657, validation smape jitter: 7.556809530566402\n",
      "Epoch: 21, train loss: 0.24978201213309656, validation smape delay: 11.88042512954178, validation smape losses: 13.398549621059692, validation smape jitter: 9.247771346876032\n",
      "Epoch: 22, train loss: 0.14022225733695462, validation smape delay: 12.02168863152895, validation smape losses: 12.00479283254177, validation smape jitter: 7.5598151301903185\n",
      "Epoch: 23, train loss: 0.526025232812549, validation smape delay: 11.101761916308417, validation smape losses: 12.338061382325316, validation smape jitter: 8.822998687818524\n",
      "Epoch: 24, train loss: 0.14284190827876717, validation smape delay: 11.039455808502002, validation smape losses: 13.730013430626347, validation smape jitter: 7.047714771043511\n",
      "Epoch: 25, train loss: 0.18056278939264042, validation smape delay: 12.715832534241478, validation smape losses: 12.712347492498608, validation smape jitter: 9.524364775309456\n",
      "Epoch: 26, train loss: 0.38015176306609005, validation smape delay: 11.02453269654821, validation smape losses: 12.306689673169563, validation smape jitter: 10.800528483161745\n",
      "Epoch: 27, train loss: 0.22363755166683658, validation smape delay: 13.20405079876404, validation smape losses: 14.254223406751251, validation smape jitter: 8.544514068137335\n",
      "Epoch: 28, train loss: 0.3790104290847458, validation smape delay: 12.144671256751433, validation smape losses: 12.056255617935118, validation smape jitter: 10.92444932629495\n",
      "Epoch: 29, train loss: 0.3830981202466941, validation smape delay: 11.02460389785485, validation smape losses: 13.96335565837899, validation smape jitter: 11.15481032868995\n",
      "Epoch: 30, train loss: 0.1948465790987892, validation smape delay: 10.57090170957267, validation smape losses: 12.13393813166822, validation smape jitter: 9.538029118837013\n",
      "Epoch: 31, train loss: 0.19328706023373415, validation smape delay: 10.445701194090198, validation smape losses: 12.814033540413345, validation smape jitter: 7.358247843096976\n",
      "Epoch: 32, train loss: 0.4413393868623716, validation smape delay: 11.016385893662267, validation smape losses: 17.947249772481335, validation smape jitter: 7.440179539411824\n",
      "Epoch: 33, train loss: 0.29037431779482814, validation smape delay: 10.537423224600968, validation smape losses: 14.418943866882952, validation smape jitter: 7.045394941241561\n",
      "Epoch: 34, train loss: 0.24911816468935574, validation smape delay: 10.90309386781313, validation smape losses: 11.989267450748764, validation smape jitter: 10.024032789866045\n",
      "Epoch: 35, train loss: 0.5605771802911641, validation smape delay: 11.43576560889416, validation smape losses: 12.175958176833813, validation smape jitter: 7.964440853880061\n",
      "Epoch: 36, train loss: 0.11256314487999368, validation smape delay: 10.591509837661885, validation smape losses: 11.756495822912122, validation smape jitter: 7.510495905241855\n",
      "Epoch: 37, train loss: 0.28113353543048697, validation smape delay: 13.583063979668157, validation smape losses: 12.214420310690622, validation smape jitter: 6.707593712896158\n",
      "Epoch: 38, train loss: 0.11651451481717731, validation smape delay: 12.226273107770579, validation smape losses: 11.958416380055287, validation smape jitter: 6.986405814974806\n",
      "Epoch: 39, train loss: 0.16560374787290105, validation smape delay: 11.094137042923542, validation smape losses: 11.600091317249948, validation smape jitter: 6.939093549168511\n",
      "Epoch: 40, train loss: 0.12371726974688108, validation smape delay: 10.801931452961131, validation smape losses: 12.26345426056341, validation smape jitter: 6.565148323416258\n",
      "Epoch: 41, train loss: 0.14997256141706256, validation smape delay: 10.84713430401783, validation smape losses: 12.023375191912189, validation smape jitter: 7.769431400221606\n",
      "Epoch: 42, train loss: 0.21155581712818303, validation smape delay: 10.74876346732221, validation smape losses: 11.950406584249883, validation smape jitter: 6.552071649822733\n",
      "Epoch: 43, train loss: 0.29059105555606524, validation smape delay: 10.575851750552378, validation smape losses: 14.651772451725957, validation smape jitter: 7.387771290787579\n",
      "Epoch: 44, train loss: 0.11003691036113962, validation smape delay: 11.855855448198229, validation smape losses: 13.22119170299285, validation smape jitter: 6.512623933813993\n",
      "Epoch: 45, train loss: 0.16441765523616803, validation smape delay: 10.673589397310394, validation smape losses: 11.934236662894014, validation smape jitter: 8.459730561263484\n",
      "Epoch: 46, train loss: 0.417300303936516, validation smape delay: 10.323758133718595, validation smape losses: 11.61289337881044, validation smape jitter: 6.789021245384217\n",
      "Epoch: 47, train loss: 0.08513523797239896, validation smape delay: 10.649723455767406, validation smape losses: 11.55736542610481, validation smape jitter: 8.04858347659289\n",
      "Epoch: 48, train loss: 0.42780984665343696, validation smape delay: 10.238411129608023, validation smape losses: 11.58848940408, validation smape jitter: 7.424068898563251\n",
      "Epoch: 49, train loss: 0.20928125907868247, validation smape delay: 10.370484335967927, validation smape losses: 12.135996749753104, validation smape jitter: 6.951474958821424\n",
      "Epoch: 50, train loss: 0.0688131748692889, validation smape delay: 10.20427476540335, validation smape losses: 11.609894667475274, validation smape jitter: 7.106968587949707\n",
      "Epoch: 51, train loss: 0.3922718365504622, validation smape delay: 11.269561998069618, validation smape losses: 11.461616213313706, validation smape jitter: 6.576627891031352\n",
      "Epoch: 52, train loss: 0.11620440444037973, validation smape delay: 11.18754891438687, validation smape losses: 13.498679547350202, validation smape jitter: 8.613314820765655\n",
      "Epoch: 53, train loss: 0.2720526296774261, validation smape delay: 10.838648906920643, validation smape losses: 11.863595778326403, validation smape jitter: 6.828697683938595\n",
      "Epoch: 54, train loss: 0.11551784483412157, validation smape delay: 11.147234525385215, validation smape losses: 11.466570463903928, validation smape jitter: 6.623444631340374\n",
      "Epoch: 55, train loss: 0.4196145601381756, validation smape delay: 10.566408252561768, validation smape losses: 12.73563618871771, validation smape jitter: 6.331838972116438\n",
      "Epoch: 56, train loss: 0.11906286000203538, validation smape delay: 10.948299205487462, validation smape losses: 12.215527624702549, validation smape jitter: 8.782262305316998\n",
      "Epoch: 57, train loss: 0.13189183456135936, validation smape delay: 10.815006174832849, validation smape losses: 11.868165906017142, validation smape jitter: 6.544300226653506\n",
      "Epoch: 58, train loss: 0.10330546592049526, validation smape delay: 10.49396492239072, validation smape losses: 12.052920891199438, validation smape jitter: 6.2864411799442195\n",
      "Epoch: 59, train loss: 0.21370331044955437, validation smape delay: 11.427823091429719, validation smape losses: 11.508037652416862, validation smape jitter: 6.514265242050884\n",
      "Epoch: 60, train loss: 0.1388275223499715, validation smape delay: 12.500556952487514, validation smape losses: 12.387630282643926, validation smape jitter: 7.451049143641951\n",
      "Epoch: 61, train loss: 0.4804852829890398, validation smape delay: 12.983147360845376, validation smape losses: 11.44686775818068, validation smape jitter: 7.573533287448673\n",
      "Epoch: 62, train loss: 0.13784527528793458, validation smape delay: 10.522669733754299, validation smape losses: 11.974916927262754, validation smape jitter: 6.839522946899949\n",
      "Epoch: 63, train loss: 0.34364223973424884, validation smape delay: 10.029670670738508, validation smape losses: 14.106113777440616, validation smape jitter: 6.298081831687156\n",
      "Epoch: 64, train loss: 0.13666707931776323, validation smape delay: 10.234292004679581, validation smape losses: 11.582772842274892, validation smape jitter: 6.384841542780035\n",
      "Epoch: 65, train loss: 0.26103054603368386, validation smape delay: 11.115891927107839, validation smape losses: 12.124780867481086, validation smape jitter: 6.318109861677079\n",
      "Epoch: 66, train loss: 0.13304830100286105, validation smape delay: 10.35852391839486, validation smape losses: 11.698790226479643, validation smape jitter: 6.597440484877483\n",
      "Epoch: 67, train loss: 0.06068859459866115, validation smape delay: 10.513056411869176, validation smape losses: 11.409086432987374, validation smape jitter: 6.322548524570634\n",
      "Epoch: 68, train loss: 0.38144598475777186, validation smape delay: 10.199186258552901, validation smape losses: 11.172147766020165, validation smape jitter: 6.296131031456892\n",
      "Epoch: 69, train loss: 0.17051392951585423, validation smape delay: 9.917814462524245, validation smape losses: 14.231762038080223, validation smape jitter: 6.441697321075464\n",
      "Epoch: 70, train loss: 0.17217240112834606, validation smape delay: 11.190432970550397, validation smape losses: 11.356297737664118, validation smape jitter: 6.334475794442406\n",
      "Epoch: 71, train loss: 0.44587965348761016, validation smape delay: 11.968407423642914, validation smape losses: 12.11615407008471, validation smape jitter: 8.60833802609656\n",
      "Epoch: 72, train loss: 0.07707321043180972, validation smape delay: 10.724225971089075, validation smape losses: 18.112203998625755, validation smape jitter: 7.996200042369122\n",
      "Epoch: 73, train loss: 0.1622048710621693, validation smape delay: 11.294825966653772, validation smape losses: 13.552792274735618, validation smape jitter: 9.147259948466665\n",
      "Epoch: 74, train loss: 0.2964344306644009, validation smape delay: 11.496085641885829, validation smape losses: 11.525995399690794, validation smape jitter: 7.423739333477212\n",
      "Epoch: 75, train loss: 0.43765933073500957, validation smape delay: 10.533150643930849, validation smape losses: 13.904545617341473, validation smape jitter: 7.269796119724757\n",
      "Epoch: 76, train loss: 0.12336642026601144, validation smape delay: 11.468888575640495, validation smape losses: 12.19169732640181, validation smape jitter: 6.911020757832068\n",
      "Epoch: 77, train loss: 0.0949685549211164, validation smape delay: 10.446869629117547, validation smape losses: 11.34873365263975, validation smape jitter: 6.272708359106938\n",
      "Epoch: 78, train loss: 0.10324385474866123, validation smape delay: 10.13381200008713, validation smape losses: 11.855995791238003, validation smape jitter: 6.397002583668203\n",
      "Epoch: 79, train loss: 0.3641393155913633, validation smape delay: 13.440936113574661, validation smape losses: 11.604127085769749, validation smape jitter: 6.469910150813303\n",
      "Epoch: 80, train loss: 0.1604968943239815, validation smape delay: 11.172535832598754, validation smape losses: 11.191746141830768, validation smape jitter: 6.536567083119984\n",
      "Epoch: 81, train loss: 0.09742125605958851, validation smape delay: 10.7767958846985, validation smape losses: 12.77294744536446, validation smape jitter: 6.042733178240075\n",
      "Epoch: 82, train loss: 0.27431565475354297, validation smape delay: 10.17485600812805, validation smape losses: 12.706998675955258, validation smape jitter: 6.934347722020155\n",
      "Epoch: 83, train loss: 0.26527139868284594, validation smape delay: 10.784937783551259, validation smape losses: 12.198279882519609, validation smape jitter: 6.560422106081712\n",
      "Epoch: 84, train loss: 0.4891577685251739, validation smape delay: 9.983892563451606, validation smape losses: 12.116458180290095, validation smape jitter: 7.1935046433599155\n",
      "Epoch: 85, train loss: 0.2075873904295386, validation smape delay: 9.82579311112027, validation smape losses: 12.911953140269066, validation smape jitter: 6.5134543267807885\n",
      "Epoch: 86, train loss: 0.22508864618548727, validation smape delay: 12.764918310127152, validation smape losses: 12.04948379507277, validation smape jitter: 6.160667724048847\n",
      "Epoch: 87, train loss: 0.2277093256024349, validation smape delay: 11.154920517225639, validation smape losses: 11.388502450223116, validation smape jitter: 6.570197549900793\n",
      "Epoch: 88, train loss: 0.4158190281308665, validation smape delay: 9.857973637386337, validation smape losses: 11.691485411471273, validation smape jitter: 6.22804472406351\n",
      "Epoch: 89, train loss: 0.1131660093865637, validation smape delay: 11.11761242039459, validation smape losses: 14.073653136874617, validation smape jitter: 6.928938451481128\n"
     ]
    }
   ],
   "source": [
    "not_improved_epochs = 0\n",
    "best_loss_delay = None\n",
    "best_loss_not_loss = None\n",
    "\n",
    "torch.set_printoptions(sci_mode=False)\n",
    "\n",
    "for epoch in range(10000):\n",
    "    if not_improved_epochs > early_stopping_window: #finished learning\n",
    "        break\n",
    "    batch = random.sample(ds_train[0], batch_size)\n",
    "    for g in batch:\n",
    "        #g = transformFeatures(g)\n",
    "        \n",
    "        link_feats = torch.transpose(torch.stack(joinFeatures(g.nodes['link'].data)),0,1).contiguous()\n",
    "        path_feats = torch.transpose(torch.stack(joinFeatures(g.nodes['path'].data)),0,1).contiguous()\n",
    "        queue_feats = torch.transpose(torch.stack(joinFeatures(g.nodes['queue'].data)),0,1).contiguous()\n",
    "\n",
    "        labels = torch.stack((g.nodes['path'].data['delay'], g.nodes['path'].data['drops'], g.nodes['path'].data['jitter'] ))\n",
    "        #print(labels)\n",
    "        \n",
    "        node_features = {'link': link_feats, 'path': path_feats, 'queue': queue_feats}\n",
    "\n",
    "        model.train()\n",
    "        \n",
    "        # forward propagation by using all nodes and extracting the path embeddings\n",
    "        logits = model(g, node_features)['path']\n",
    "        logits = torch.transpose(logits,0,1)\n",
    "        \n",
    "        # compute loss\n",
    "        loss = loss_object(logits, labels)\n",
    "        loss_values.append(loss.item())\n",
    "        \n",
    "        # backward propagation\n",
    "        opt.zero_grad()\n",
    "        loss.backward()\n",
    "        opt.step()\n",
    "    #validate model\n",
    "    val_values_epoch_delay = []\n",
    "    val_values_epoch_not_loss = []\n",
    "    val_values_epoch_jitter = []\n",
    "    \n",
    "    with torch.no_grad():\n",
    "        for g in ds_validation[0]:\n",
    "\n",
    "            #g = transformFeatures(g)\n",
    "            \n",
    "            link_feats = torch.transpose(torch.stack(joinFeatures(g.nodes['link'].data)),0,1)\n",
    "            path_feats = torch.transpose(torch.stack(joinFeatures(g.nodes['path'].data)),0,1)\n",
    "            queue_feats = torch.transpose(torch.stack(joinFeatures(g.nodes['queue'].data)),0,1)\n",
    "            labels = torch.stack((g.nodes['path'].data['delay'], g.nodes['path'].data['drops'], g.nodes['path'].data['jitter'] ))\n",
    "            node_features = {'link': link_feats, 'path': path_feats, 'queue': queue_feats}\n",
    "            \n",
    "            logits = model(g, node_features)['path']\n",
    "            logits = torch.transpose(logits,0,1)\n",
    "            \n",
    "            val_loss_delay = calculate_smape(((logits[0]+2)*(0.0230716-0.00001))+0.00001, ((labels[0]+2)*(0.0230716-0.00001))+0.00001)*100 #denormalization\n",
    "            val_loss_not_loss = calculate_smape(((2+logits[1])*0.741), ((2+labels[1])*0.741))*100\n",
    "            val_loss_jitter = calculate_smape((logits[2]+2)*0.000022, (labels[2]+2)*0.000022)*100\n",
    "            \n",
    "            val_values_delay.append(val_loss_delay.item())\n",
    "            val_values_not_loss.append(val_loss_not_loss.item())\n",
    "            val_values_jitter.append(val_loss_jitter.item())\n",
    "            \n",
    "            val_values_epoch_delay.append(val_loss_delay.item())\n",
    "            val_values_epoch_not_loss.append(val_loss_not_loss.item())\n",
    "            val_values_epoch_jitter.append(val_loss_jitter.item())\n",
    "    \n",
    "    val_epoch_delay = float(sum(val_values_epoch_delay)/len(val_values_epoch_delay))\n",
    "    val_epoch_not_loss = float(sum(val_values_epoch_not_loss)/len(val_values_epoch_not_loss))\n",
    "    val_epoch_jitter = float(sum(val_values_epoch_jitter)/len(val_values_epoch_jitter))\n",
    "\n",
    "                                                                  \n",
    "    if best_loss_delay is None or (val_epoch_delay < best_loss_delay and val_epoch_not_loss < best_loss_not_loss): #and val_epoch_jitter < best_loss_jitter): #only save best model\n",
    "        best_loss_delay = val_epoch_delay\n",
    "        best_loss_not_loss = val_epoch_not_loss\n",
    "        best_loss_jitter = val_epoch_jitter\n",
    "        \n",
    "        not_improved_epochs = 0\n",
    "        torch.save(model.state_dict(), save_model_path)\n",
    "    else:\n",
    "        not_improved_epochs += 1\n",
    "        \n",
    "    #if epoch%10 == 0:\n",
    "    print(f\"Epoch: {epoch}, train loss: {loss}, validation smape delay: {val_epoch_delay}, validation smape losses: {val_epoch_not_loss}, validation smape jitter: {val_epoch_jitter}\")"
   ]
  },
  {
   "cell_type": "code",
   "execution_count": 17,
   "id": "6dea4f37-4edc-4e14-9984-77dbc0fb4a7d",
   "metadata": {},
   "outputs": [
    {
     "data": {
      "text/plain": [
       "[<matplotlib.lines.Line2D at 0x7f6ddc60f4c0>]"
      ]
     },
     "execution_count": 17,
     "metadata": {},
     "output_type": "execute_result"
    },
    {
     "data": {
      "image/png": "[encoded data removed]",
      "text/plain": [
       "<Figure size 640x480 with 1 Axes>"
      ]
     },
     "metadata": {},
     "output_type": "display_data"
    }
   ],
   "source": [
    "plt.plot(loss_values)"
   ]
  },
  {
   "cell_type": "code",
   "execution_count": 18,
   "id": "a8456915-06a7-4273-b1b2-8b3416a945bf",
   "metadata": {},
   "outputs": [
    {
     "data": {
      "text/plain": [
       "[<matplotlib.lines.Line2D at 0x7f6ddc5446a0>]"
      ]
     },
     "execution_count": 18,
     "metadata": {},
     "output_type": "execute_result"
    },
    {
     "data": {
      "image/png": "[encoded data removed]",
      "text/plain": [
       "<Figure size 640x480 with 1 Axes>"
      ]
     },
     "metadata": {},
     "output_type": "display_data"
    }
   ],
   "source": [
    "plt.plot(val_values_delay)"
   ]
  },
  {
   "cell_type": "code",
   "execution_count": 19,
   "id": "439309e6-d555-47a0-a682-6f60d046f9b3",
   "metadata": {},
   "outputs": [
    {
     "data": {
      "text/plain": [
       "[<matplotlib.lines.Line2D at 0x7f6ddc5b9630>]"
      ]
     },
     "execution_count": 19,
     "metadata": {},
     "output_type": "execute_result"
    },
    {
     "data": {
      "image/png": "[encoded data removed]",
      "text/plain": [
       "<Figure size 640x480 with 1 Axes>"
      ]
     },
     "metadata": {},
     "output_type": "display_data"
    }
   ],
   "source": [
    "plt.plot(val_values_not_loss)"
   ]
  },
  {
   "cell_type": "code",
   "execution_count": 20,
   "id": "816a6981-5ca1-4543-aadc-f9d0bd66c6f8",
   "metadata": {},
   "outputs": [
    {
     "data": {
      "text/plain": [
       "[<matplotlib.lines.Line2D at 0x7f6ddba8e8f0>]"
      ]
     },
     "execution_count": 20,
     "metadata": {},
     "output_type": "execute_result"
    },
    {
     "data": {
      "image/png": "[encoded data removed]",
      "text/plain": [
       "<Figure size 640x480 with 1 Axes>"
      ]
     },
     "metadata": {},
     "output_type": "display_data"
    }
   ],
   "source": [
    "plt.plot(val_values_jitter)"
   ]
  },
  {
   "cell_type": "markdown",
   "id": "exceptional-colon",
   "metadata": {
    "tags": []
   },
   "source": [
    "## Load the pre-trained model"
   ]
  },
  {
   "cell_type": "code",
   "execution_count": 21,
   "id": "altered-recommendation",
   "metadata": {},
   "outputs": [
    {
     "data": {
      "text/plain": [
       "RGCN(\n",
       "  (conv1): HeteroGraphConv(\n",
       "    (mods): ModuleDict(\n",
       "      (traverses): GraphConv(in=4, out=20, normalization=both, activation=None)\n",
       "      (composes): GraphConv(in=4, out=20, normalization=both, activation=None)\n",
       "      (uses): GraphConv(in=4, out=20, normalization=both, activation=None)\n",
       "      (serves): GraphConv(in=4, out=20, normalization=both, activation=None)\n",
       "      (hosts): GraphConv(in=4, out=20, normalization=both, activation=None)\n",
       "      (resides): GraphConv(in=4, out=20, normalization=both, activation=None)\n",
       "    )\n",
       "  )\n",
       "  (conv2): HeteroGraphConv(\n",
       "    (mods): ModuleDict(\n",
       "      (traverses): GraphConv(in=20, out=3, normalization=both, activation=None)\n",
       "      (composes): GraphConv(in=20, out=3, normalization=both, activation=None)\n",
       "      (uses): GraphConv(in=20, out=3, normalization=both, activation=None)\n",
       "      (serves): GraphConv(in=20, out=3, normalization=both, activation=None)\n",
       "      (hosts): GraphConv(in=20, out=3, normalization=both, activation=None)\n",
       "      (resides): GraphConv(in=20, out=3, normalization=both, activation=None)\n",
       "    )\n",
       "  )\n",
       ")"
      ]
     },
     "execution_count": 21,
     "metadata": {},
     "output_type": "execute_result"
    }
   ],
   "source": [
    "model.load_state_dict(torch.load(save_model_path))\n",
    "model.eval()"
   ]
  },
  {
   "cell_type": "markdown",
   "id": "nonprofit-blanket",
   "metadata": {
    "tags": []
   },
   "source": [
    "## Test prediction"
   ]
  },
  {
   "cell_type": "code",
   "execution_count": 22,
   "id": "anonymous-palmer",
   "metadata": {},
   "outputs": [
    {
     "ename": "NameError",
     "evalue": "name 'ds_test' is not defined",
     "output_type": "error",
     "traceback": [
      "\u001b[0;31m---------------------------------------------------------------------------\u001b[0m",
      "\u001b[0;31mNameError\u001b[0m                                 Traceback (most recent call last)",
      "Cell \u001b[0;32mIn [22], line 12\u001b[0m\n\u001b[1;32m      9\u001b[0m metric \u001b[38;5;241m=\u001b[39m MeanAbsolutePercentageError()\n\u001b[1;32m     11\u001b[0m \u001b[38;5;28;01mwith\u001b[39;00m torch\u001b[38;5;241m.\u001b[39mno_grad():\n\u001b[0;32m---> 12\u001b[0m     \u001b[38;5;28;01mfor\u001b[39;00m g \u001b[38;5;129;01min\u001b[39;00m \u001b[43mds_test\u001b[49m\u001b[38;5;241m.\u001b[39mdataset[\u001b[38;5;241m0\u001b[39m]:\n\u001b[1;32m     13\u001b[0m         \n\u001b[1;32m     14\u001b[0m         \u001b[38;5;66;03m#g = transformFeatures(g)\u001b[39;00m\n\u001b[1;32m     16\u001b[0m         link_feats \u001b[38;5;241m=\u001b[39m torch\u001b[38;5;241m.\u001b[39mtranspose(torch\u001b[38;5;241m.\u001b[39mstack(joinFeatures(g\u001b[38;5;241m.\u001b[39mnodes[\u001b[38;5;124m'\u001b[39m\u001b[38;5;124mlink\u001b[39m\u001b[38;5;124m'\u001b[39m]\u001b[38;5;241m.\u001b[39mdata)),\u001b[38;5;241m0\u001b[39m,\u001b[38;5;241m1\u001b[39m)\n\u001b[1;32m     17\u001b[0m         path_feats \u001b[38;5;241m=\u001b[39m torch\u001b[38;5;241m.\u001b[39mtranspose(torch\u001b[38;5;241m.\u001b[39mstack(joinFeatures(g\u001b[38;5;241m.\u001b[39mnodes[\u001b[38;5;124m'\u001b[39m\u001b[38;5;124mpath\u001b[39m\u001b[38;5;124m'\u001b[39m]\u001b[38;5;241m.\u001b[39mdata)),\u001b[38;5;241m0\u001b[39m,\u001b[38;5;241m1\u001b[39m)\n",
      "\u001b[0;31mNameError\u001b[0m: name 'ds_test' is not defined"
     ]
    }
   ],
   "source": [
    "mapes_delay = []\n",
    "mapes_not_loss = []\n",
    "mapes_jitter = []\n",
    "\n",
    "smapes_delay = []\n",
    "smapes_not_loss = []\n",
    "smapes_jitter = []\n",
    "\n",
    "metric = MeanAbsolutePercentageError()\n",
    "\n",
    "with torch.no_grad():\n",
    "    for g in ds_test.dataset[0]:\n",
    "        \n",
    "        #g = transformFeatures(g)\n",
    "        \n",
    "        link_feats = torch.transpose(torch.stack(joinFeatures(g.nodes['link'].data)),0,1)\n",
    "        path_feats = torch.transpose(torch.stack(joinFeatures(g.nodes['path'].data)),0,1)\n",
    "        queue_feats = torch.transpose(torch.stack(joinFeatures(g.nodes['queue'].data)),0,1)\n",
    "        labels = torch.stack((g.nodes['path'].data['delay'], g.nodes['path'].data['drops'], g.nodes['path'].data['jitter']))\n",
    "        node_features = {'link': link_feats, 'path': path_feats, 'queue': queue_feats}\n",
    "        logits = model(g, node_features)['path']\n",
    "        logits = torch.transpose(logits,0,1)\n",
    "        \n",
    "        mape_delay = calculate_smape((logits[0]*(0.0230716-0.00001))+0.00001, (labels[0]*(0.0230716-0.00001))+0.00001)*100\n",
    "        mapes_delay.append(mape_delay.item())\n",
    "\n",
    "        mape_not_loss = calculate_smape(1-(logits[1]*0.741), 1-(labels[1]*0.741))*100\n",
    "        mapes_not_loss.append(mape_not_loss.item())\n",
    "\n",
    "        mape_jitter = calculate_smape((logits[2]+1)*0.000022, (labels[2]+1)*0.000022)*100\n",
    "        mapes_jitter.append(mape_jitter.item())\n",
    "\n",
    "        \"\"\"smape_delay = calculate_smape(logits[0], labels[0])*100\n",
    "        smapes_delay.append(smape_delay.item())\n",
    "\n",
    "        smape_not_loss = calculate_smape(logits[1], labels[1])*100\n",
    "        smapes_not_loss.append(smape_not_loss.item())\n",
    "\n",
    "        smape_jitter = calculate_smape(logits[2], labels[2])*100\n",
    "        smapes_jitter.append(smape_jitter.item())\"\"\"\n",
    "        \n",
    "print(\"SMAPE delay queue: \"+str(sum(mapes_delay)/len(mapes_delay)))\n",
    "print(\"SMAPE not loss queue: \"+str(sum(mapes_not_loss)/len(mapes_not_loss)))\n",
    "print(\"SMAPE jitter: \"+str(sum(mapes_jitter)/len(mapes_jitter)))\n",
    "\n",
    "\n",
    "#print(\"sMAPE delay queue: \"+str(sum(smapes_delay)/len(smapes_delay)))\n",
    "#print(\"sMAPE not loss queue: \"+str(sum(smapes_not_loss)/len(smapes_not_loss)))\n",
    "#print(\"sMAPE jitter: \"+str(sum(smapes_jitter)/len(smapes_jitter)))"
   ]
  },
  {
   "cell_type": "code",
   "execution_count": null,
   "id": "93c9dda9-d371-4a40-8a0c-9238038ae1d6",
   "metadata": {},
   "outputs": [],
   "source": [
    "if torch.count_nonzero(logits[0]) == 0:\n",
    "    print(\"ERROR!!\")\n",
    "    print((logits[0]*(0.0230716-0.00001))+0.00001)\n",
    "    print((labels[0]*(0.0230716-0.00001))+0.00001)\n",
    "    print(1-logits[1])\n",
    "    print(1-labels[1])\n",
    "    print(logits[2]*0.000022)\n",
    "    print(labels[2]*0.000022)\n",
    "else:\n",
    "    print((logits[0]*(0.0230716-0.00001))+0.00001)\n",
    "    print((labels[0]*(0.0230716-0.00001))+0.00001)\n",
    "    print(1-logits[1])\n",
    "    print(1-labels[1])\n",
    "    print(logits[2]*0.000022)\n",
    "    print(labels[2]*0.000022)"
   ]
  }
 ],
 "metadata": {
  "kernelspec": {
   "display_name": "“pytorch”",
   "language": "python",
   "name": "pytorch"
  },
  "language_info": {
   "codemirror_mode": {
    "name": "ipython",
    "version": 3
   },
   "file_extension": ".py",
   "mimetype": "text/x-python",
   "name": "python",
   "nbconvert_exporter": "python",
   "pygments_lexer": "ipython3",
   "version": "3.10.8"
  },
  "widgets": {
   "application/vnd.jupyter.widget-state+json": {
    "state": {},
    "version_major": 2,
    "version_minor": 0
   }
  }
 },
 "nbformat": 4,
 "nbformat_minor": 5
}
